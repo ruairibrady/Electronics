{
 "cells": [
  {
   "cell_type": "code",
   "execution_count": 47,
   "metadata": {},
   "outputs": [
    {
     "name": "stdout",
     "output_type": "stream",
     "text": [
      "To ensure the non-inverting negative feedback amplifier increases the output voltage by a factor of 10.0 with respect to the   input voltage, an initial resistor 9.0 times smaller than the final resistor must be used.\n",
      "\n",
      "However, if resistors of 150 Ω and 1500 Ω are used for Ri and Rf respectively, the output voltage will increase by a factor of 11.0 with respect to the input voltage.\n"
     ]
    }
   ],
   "source": [
    "#desired values\n",
    "#loading variables\n",
    "gain = 20\n",
    "#calculations\n",
    "Acl1 = 10**(gain/20)\n",
    "ResRatio = Acl1-1\n",
    "\n",
    "#experimental values\n",
    "#loading variables\n",
    "Ri = 150\n",
    "Rf = 1500\n",
    "Acl2 = 1+(Rf/Ri)\n",
    "\n",
    "#statements\n",
    "print('To ensure the non-inverting negative feedback amplifier increases the output voltage by a factor of',Acl1,'with respect to the   input voltage, an initial resistor', ResRatio,'times smaller than the final resistor must be used.')\n",
    "print('\\nHowever, if resistors of', Ri,'\\u2126 and', Rf,'\\u2126 are used for Ri and Rf respectively, the output voltage will increase by a factor of', Acl2, 'with respect to the input voltage.')"
   ]
  }
 ],
 "metadata": {
  "kernelspec": {
   "display_name": "Python 3",
   "language": "python",
   "name": "python3"
  },
  "language_info": {
   "codemirror_mode": {
    "name": "ipython",
    "version": 3
   },
   "file_extension": ".py",
   "mimetype": "text/x-python",
   "name": "python",
   "nbconvert_exporter": "python",
   "pygments_lexer": "ipython3",
   "version": "3.6.5"
  }
 },
 "nbformat": 4,
 "nbformat_minor": 2
}
