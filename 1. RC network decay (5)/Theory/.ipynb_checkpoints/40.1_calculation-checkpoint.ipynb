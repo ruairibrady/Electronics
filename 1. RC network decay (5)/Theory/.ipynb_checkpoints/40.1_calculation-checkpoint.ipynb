{
 "cells": [
  {
   "cell_type": "code",
   "execution_count": 59,
   "metadata": {},
   "outputs": [],
   "source": [
    "#importing libraries\n",
    "import numpy as np\n",
    "\n",
    "#data\n",
    "R = 1000\n",
    "C = 10e-7\n",
    "Vi_sim = 5\n",
    "to_sim = 0.997\n",
    "Vi_osc = 4.65\n",
    "to_osc = 1.00\n",
    "to_osc_err = 0.01"
   ]
  },
  {
   "cell_type": "code",
   "execution_count": 61,
   "metadata": {},
   "outputs": [
    {
     "name": "stdout",
     "output_type": "stream",
     "text": [
      "\tTheoretical\n",
      "\n",
      "When t = RC (the time constant value of this circuit) the output voltage will decay by approximately 63.2 %\n",
      "\n",
      "\tSimulation\n",
      "\n",
      "For a peak input voltage of 5 V the time constant value will be reached at an output voltage of approximately 1.84 V\n",
      "The corresponding time value to this voltage is 0.997 ± 0.001 ms\n",
      "\n",
      "\tExperimental\n",
      "\n",
      "For a peak input voltage of 4.65 V the time constant value will be reached at an output voltage of approximately 1.71 V\n",
      "The corresponding time value to this voltage is 1.0 ± 0.01 ms\n"
     ]
    }
   ],
   "source": [
    "#calculations and statements\n",
    "def V_out(t):\n",
    "    return np.exp(-t/(R*C))\n",
    "\n",
    "print('\\tTheoretical\\n\\nWhen t = RC (the time constant value of this circuit) the output voltage will decay by approximately {0:.3}'.format((1-V_out(R*C))*100),'%')\n",
    "print('\\n\\tSimulation\\n\\nFor a peak input voltage of', Vi_sim,'V the time constant value will be reached at an output voltage of approximately {0:.3}'.format((V_out(R*C))*Vi_sim),'V')\n",
    "print('The corresponding time value to this voltage is', to_sim,'±',to_sim_err,'ms')\n",
    "print('\\n\\tExperimental\\n\\nFor a peak input voltage of', Vi_osc,'V the time constant value will be reached at an output voltage of approximately {0:.3}'.format((V_out(R*C))*Vi_osc),'V')\n",
    "print('The corresponding time value to this voltage is',to_osc,'±',to_osc_err,'ms')"
   ]
  },
  {
   "cell_type": "code",
   "execution_count": null,
   "metadata": {},
   "outputs": [],
   "source": []
  }
 ],
 "metadata": {
  "kernelspec": {
   "display_name": "Python 3",
   "language": "python",
   "name": "python3"
  },
  "language_info": {
   "codemirror_mode": {
    "name": "ipython",
    "version": 3
   },
   "file_extension": ".py",
   "mimetype": "text/x-python",
   "name": "python",
   "nbconvert_exporter": "python",
   "pygments_lexer": "ipython3",
   "version": "3.6.5"
  }
 },
 "nbformat": 4,
 "nbformat_minor": 2
}
