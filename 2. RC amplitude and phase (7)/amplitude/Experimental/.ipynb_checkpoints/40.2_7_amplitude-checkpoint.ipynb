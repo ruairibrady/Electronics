{
 "cells": [
  {
   "cell_type": "code",
   "execution_count": 1,
   "metadata": {},
   "outputs": [],
   "source": [
    "#importing packages\n",
    "import numpy as np\n",
    "import matplotlib.pyplot as plt\n",
    "from scipy.optimize import curve_fit\n",
    "%matplotlib inline"
   ]
  },
  {
   "cell_type": "code",
   "execution_count": 2,
   "metadata": {},
   "outputs": [],
   "source": [
    "data = np.loadtxt(\"40.2_7_amplitude.txt\")\n",
    "f = data[:,0]\n",
    "Vi = data[:,1]\n",
    "Vo = data[:,2]\n",
    "g = 20*np.log10(Vo/Vi)\n",
    "frange = np.arange(1,1e6,10)"
   ]
  },
  {
   "cell_type": "code",
   "execution_count": 3,
   "metadata": {},
   "outputs": [
    {
     "name": "stderr",
     "output_type": "stream",
     "text": [
      "C:\\Users\\ruair\\Anaconda3\\lib\\site-packages\\scipy\\optimize\\minpack.py:794: OptimizeWarning: Covariance of the parameters could not be estimated\n",
      "  category=OptimizeWarning)\n"
     ]
    },
    {
     "name": "stdout",
     "output_type": "stream",
     "text": [
      "At f = 1/2πRC the amplitude of the transmitted signal is ~ 0.707 V\n",
      "This corresponds to a gain of ~ -3.01 dB\n"
     ]
    },
    {
     "data": {
      "image/png": "[encoded data removed]",
      "text/plain": [
       "<Figure size 432x288 with 1 Axes>"
      ]
     },
     "metadata": {},
     "output_type": "display_data"
    }
   ],
   "source": [
    "Vin = 1\n",
    "R = 1e3\n",
    "C = 1e-6\n",
    "Vout = (Vin*R)/np.sqrt(R**2+(1/(f**2*C**2)))\n",
    "\n",
    "def Vout(f):\n",
    "    return (Vin*R)/np.sqrt(R**2+(1/((2*np.pi*f)**2*C**2)))\n",
    "\n",
    "def gain(w,a,b,c):\n",
    "    return 20*np.log10(Vout(w))\n",
    "\n",
    "popt, pcov = curve_fit(gain,f,g)\n",
    "best = gain(frange,popt[0],popt[1],popt[2])\n",
    "plt.semilogx(f,g,'bo',markersize=5, label = \"Experimental\")\n",
    "plt.semilogx(frange, best, 'g-',linewidth=1, label = \"Theoretical\")\n",
    "plt.axhline(linewidth=1, color='k')\n",
    "plt.axvline(linewidth=1, color='k')\n",
    "plt.title('Experimental Amplitude Response Plot')\n",
    "plt.ylabel('Gain [dB]')\n",
    "plt.xlabel('Frequency [Hz]')\n",
    "plt.legend(bbox_to_anchor=(0.65, 0.20), loc=2, borderaxespad=0.)\n",
    "plt.axis([10**0,10**6,-50,5])\n",
    "plt.grid(True)\n",
    "plt.savefig('7_amplitude.png')\n",
    "\n",
    "print('At f = 1/2πRC the amplitude of the transmitted signal is ~ {0:.3}'.format(Vout(1/(2*np.pi*R*C))),'V')\n",
    "print('This corresponds to a gain of ~ {0:.3}'.format(gain(1/(2*np.pi*R*C),popt[0],popt[1],popt[2])),'dB')"
   ]
  },
  {
   "cell_type": "code",
   "execution_count": null,
   "metadata": {},
   "outputs": [],
   "source": []
  }
 ],
 "metadata": {
  "kernelspec": {
   "display_name": "Python 3",
   "language": "python",
   "name": "python3"
  },
  "language_info": {
   "codemirror_mode": {
    "name": "ipython",
    "version": 3
   },
   "file_extension": ".py",
   "mimetype": "text/x-python",
   "name": "python",
   "nbconvert_exporter": "python",
   "pygments_lexer": "ipython3",
   "version": "3.6.5"
  }
 },
 "nbformat": 4,
 "nbformat_minor": 2
}
