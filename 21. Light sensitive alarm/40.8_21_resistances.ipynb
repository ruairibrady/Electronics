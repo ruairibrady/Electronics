{
 "cells": [
  {
   "cell_type": "code",
   "execution_count": 24,
   "metadata": {},
   "outputs": [
    {
     "name": "stdout",
     "output_type": "stream",
     "text": [
      "To ensure the LED activates at night the following resistors must be used to build the light sensistive alarm;\n",
      "\n",
      "Load resistor = 1.0 k Ω\n",
      "Base resistor = 1.0 k Ω\n",
      "Dividing resistor = 47.0 k Ω\n"
     ]
    }
   ],
   "source": [
    "#loading variables\n",
    "Vi = 5\n",
    "Vo = 1.4\n",
    "Il = 5*10**-3\n",
    "Rn = 710\n",
    "Rd = 18300\n",
    "\n",
    "#calculations\n",
    "Rl =  Vi/Il\n",
    "Rb = 1000.0\n",
    "Rdiv = np.around((Vi*Rd)/(Vo)-Rd, decimals=-3)\n",
    "                \n",
    "#calculation\n",
    "print('To ensure the LED activates at night the following resistors must be used to build the light sensistive alarm;\\n')\n",
    "print('Load resistor =', Rl/1000,'k \\u2126')\n",
    "print('Base resistor =', Rb/1000,'k \\u2126')\n",
    "print('Dividing resistor =', Rdiv/1000,'k \\u2126')"
   ]
  },
  {
   "cell_type": "code",
   "execution_count": null,
   "metadata": {},
   "outputs": [],
   "source": []
  }
 ],
 "metadata": {
  "kernelspec": {
   "display_name": "Python 3",
   "language": "python",
   "name": "python3"
  },
  "language_info": {
   "codemirror_mode": {
    "name": "ipython",
    "version": 3
   },
   "file_extension": ".py",
   "mimetype": "text/x-python",
   "name": "python",
   "nbconvert_exporter": "python",
   "pygments_lexer": "ipython3",
   "version": "3.6.5"
  }
 },
 "nbformat": 4,
 "nbformat_minor": 2
}
