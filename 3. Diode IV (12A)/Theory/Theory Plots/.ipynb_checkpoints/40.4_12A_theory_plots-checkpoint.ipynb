{
 "cells": [
  {
   "cell_type": "code",
   "execution_count": 1,
   "metadata": {},
   "outputs": [],
   "source": [
    "#importing packages\n",
    "import numpy as np\n",
    "import matplotlib.pyplot as plt\n",
    "from scipy.optimize import curve_fit\n",
    "%matplotlib inline"
   ]
  },
  {
   "cell_type": "code",
   "execution_count": 2,
   "metadata": {},
   "outputs": [
    {
     "name": "stderr",
     "output_type": "stream",
     "text": [
      "C:\\Users\\ruair\\Anaconda3\\lib\\site-packages\\matplotlib\\cbook\\deprecation.py:107: MatplotlibDeprecationWarning: Adding an axes using the same arguments as a previous axes currently reuses the earlier instance.  In a future version, a new instance will always be created and returned.  Meanwhile, this warning can be suppressed, and the future behavior ensured, by passing a unique label to each axes instance.\n",
      "  warnings.warn(message, mplDeprecation, stacklevel=1)\n"
     ]
    },
    {
     "data": {
      "image/png": "[encoded data removed]",
      "text/plain": [
       "<Figure size 432x288 with 1 Axes>"
      ]
     },
     "metadata": {},
     "output_type": "display_data"
    }
   ],
   "source": [
    "#theoretical diode working as a switch\n",
    "plt.xlabel('Voltage (V)')\n",
    "plt.ylabel('Current (mA)')\n",
    "plt.axhline(linewidth=3, color='b', xmax = 0.5)\n",
    "plt.axvline(linewidth=3, color='b', ymin = 0.5)\n",
    "plt.axhline(linewidth=1, color='k')\n",
    "plt.axvline(linewidth=1, color='k')\n",
    "ax = plt.subplot(111)\n",
    "plt.axis([-1,1,-10,10])\n",
    "V = [0]\n",
    "ax.set_xticks(V)\n",
    "ax.set_xticklabels(('0'))\n",
    "A = [0]\n",
    "ax.set_yticks(A)\n",
    "ax.set_yticklabels(('0'))\n",
    "plt.savefig('40.4_12A_theory_plots_1.png')"
   ]
  },
  {
   "cell_type": "code",
   "execution_count": 3,
   "metadata": {},
   "outputs": [
    {
     "name": "stderr",
     "output_type": "stream",
     "text": [
      "C:\\Users\\ruair\\Anaconda3\\lib\\site-packages\\matplotlib\\cbook\\deprecation.py:107: MatplotlibDeprecationWarning: Adding an axes using the same arguments as a previous axes currently reuses the earlier instance.  In a future version, a new instance will always be created and returned.  Meanwhile, this warning can be suppressed, and the future behavior ensured, by passing a unique label to each axes instance.\n",
      "  warnings.warn(message, mplDeprecation, stacklevel=1)\n"
     ]
    },
    {
     "data": {
      "text/plain": [
       "[Text(0,-10,'0')]"
      ]
     },
     "execution_count": 3,
     "metadata": {},
     "output_type": "execute_result"
    },
    {
     "data": {
      "image/png": "[encoded data removed]",
      "text/plain": [
       "<Figure size 432x288 with 1 Axes>"
      ]
     },
     "metadata": {},
     "output_type": "display_data"
    }
   ],
   "source": [
    "#practical diode \n",
    "plt.xlabel('Voltage (V)')\n",
    "plt.ylabel('Current (mA)')\n",
    "plt.axhline(linewidth=3, color='b', y = 0, xmin = -1, xmax = 0.85)\n",
    "plt.axvline(linewidth=3, color='b', x = 0.7, ymin = 0.5, ymax = 1)\n",
    "plt.axhline(linewidth=1, color='k')\n",
    "plt.axvline(linewidth=0.5, color='k', x=0.7)\n",
    "plt.axvline(linewidth=1, color='k')\n",
    "plt.axis([-1,1,-10,10])\n",
    "ax1 = plt.subplot(111)\n",
    "plt.savefig('40.4_12A_theory_plots_2.png')\n",
    "V = [0,0.7]\n",
    "ax1.set_xticks(V)\n",
    "ax1.set_xticklabels(('0',r'$V_{f}$'))\n",
    "A = [0]\n",
    "ax1.set_yticks(A)\n",
    "ax1.set_yticklabels(('0'))"
   ]
  },
  {
   "cell_type": "code",
   "execution_count": 5,
   "metadata": {},
   "outputs": [
    {
     "name": "stderr",
     "output_type": "stream",
     "text": [
      "C:\\Users\\ruair\\Anaconda3\\lib\\site-packages\\matplotlib\\cbook\\deprecation.py:107: MatplotlibDeprecationWarning: Adding an axes using the same arguments as a previous axes currently reuses the earlier instance.  In a future version, a new instance will always be created and returned.  Meanwhile, this warning can be suppressed, and the future behavior ensured, by passing a unique label to each axes instance.\n",
      "  warnings.warn(message, mplDeprecation, stacklevel=1)\n"
     ]
    },
    {
     "data": {
      "image/png": "[encoded data removed]",
      "text/plain": [
       "<Figure size 432x288 with 1 Axes>"
      ]
     },
     "metadata": {},
     "output_type": "display_data"
    }
   ],
   "source": [
    "#real diode\n",
    "Is = 10e-12\n",
    "q = 1.602e-19\n",
    "k = 1.38e-23\n",
    "T = 295.15\n",
    "Vi_th = np.arange(-1,1,0.001)\n",
    "I_th = Is*(np.exp((q*Vi_th)/(k*T))-1)\n",
    "plt.xlabel('Voltage (V)')\n",
    "plt.ylabel('Current (mA)')\n",
    "plt.plot(Vi_th, I_th, 'b-', linewidth = '3')\n",
    "plt.axhline(linewidth=1, color='k')\n",
    "plt.axvline(linewidth=1, color='k')\n",
    "ax = plt.subplot(111)\n",
    "plt.axis([-1,1,-10,10])\n",
    "plt.grid(True)\n",
    "V = [0,0.7]\n",
    "ax.set_xticks(V)\n",
    "ax.set_xticklabels(('0',r'$V_{f}$'))\n",
    "A = [0]\n",
    "ax.set_yticks(A)\n",
    "plt.savefig('40.4_12A_theory_plots_3.png')"
   ]
  },
  {
   "cell_type": "code",
   "execution_count": null,
   "metadata": {},
   "outputs": [],
   "source": []
  }
 ],
 "metadata": {
  "kernelspec": {
   "display_name": "Python 3",
   "language": "python",
   "name": "python3"
  },
  "language_info": {
   "codemirror_mode": {
    "name": "ipython",
    "version": 3
   },
   "file_extension": ".py",
   "mimetype": "text/x-python",
   "name": "python",
   "nbconvert_exporter": "python",
   "pygments_lexer": "ipython3",
   "version": "3.6.5"
  }
 },
 "nbformat": 4,
 "nbformat_minor": 2
}
