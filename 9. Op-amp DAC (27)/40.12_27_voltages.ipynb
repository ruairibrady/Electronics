{
 "cells": [
  {
   "cell_type": "code",
   "execution_count": 3,
   "metadata": {},
   "outputs": [
    {
     "name": "stdout",
     "output_type": "stream",
     "text": [
      "Rf = 12.8 \n",
      "\n",
      "For (V1,V2,V3,V4) = (0, 0, 0, 0) an output voltage of -0.0 V\n",
      "For (V1,V2,V3,V4) = (0, 0, 0, 5) an output voltage of -0.2 V\n",
      "For (V1,V2,V3,V4) = (0, 0, 5, 0) an output voltage of -0.4 V\n",
      "For (V1,V2,V3,V4) = (0, 0, 5, 5) an output voltage of -0.6 V\n",
      "For (V1,V2,V3,V4) = (0, 5, 0, 0) an output voltage of -0.8 V\n",
      "For (V1,V2,V3,V4) = (0, 5, 0, 5) an output voltage of -1.0 V\n",
      "For (V1,V2,V3,V4) = (0, 5, 5, 0) an output voltage of -1.2 V\n",
      "For (V1,V2,V3,V4) = (0, 5, 5, 5) an output voltage of -1.4 V\n",
      "For (V1,V2,V3,V4) = (5, 0, 0, 0) an output voltage of -1.6 V\n",
      "For (V1,V2,V3,V4) = (5, 0, 0, 5) an output voltage of -1.8 V\n",
      "For (V1,V2,V3,V4) = (5, 0, 5, 0) an output voltage of -2.0 V\n",
      "For (V1,V2,V3,V4) = (5, 0, 5, 5) an output voltage of -2.2 V\n",
      "For (V1,V2,V3,V4) = (5, 5, 0, 0) an output voltage of -2.4 V\n",
      "For (V1,V2,V3,V4) = (5, 5, 0, 5) an output voltage of -2.6 V\n",
      "For (V1,V2,V3,V4) = (5, 5, 5, 0) an output voltage of -2.8 V\n",
      "For (V1,V2,V3,V4) = (5, 5, 5, 5) an output voltage of -3.0 V\n"
     ]
    }
   ],
   "source": [
    "R1=40  \n",
    "R2=80  \n",
    "R3=160  \n",
    "R4=320\n",
    "V1=V2=V3=V4=5  \n",
    "Vo=-3  \n",
    "Rf=-Vo/((V1/R1)+(V2/R2)+(V3/R3)+(V4/R4))  \n",
    "print(\"Rf =\", Rf,\"\\n\")  \n",
    " \n",
    "#calculating the output voltages  \n",
    "import itertools   \n",
    "def func(combination):  \n",
    "    v1, v2, v3, v4 = combination  \n",
    "\n",
    "    return -Rf*((v1/R1)+(v2/R2)+(v3/R3)+(v4/R4))  \n",
    "  \n",
    "def main():  \n",
    "    lst = list(itertools.product([0,5], repeat=4))  \n",
    "    results = []  \n",
    "    for x in lst:  \n",
    "        value=func(x)  \n",
    "        results.append(value)  \n",
    "        print(\"For (V1,V2,V3,V4) =\", x, \"an output voltage of {0:.3}\".format(value), \"V\")  \n",
    "          \n",
    "main()  \n"
   ]
  },
  {
   "cell_type": "code",
   "execution_count": null,
   "metadata": {},
   "outputs": [],
   "source": []
  }
 ],
 "metadata": {
  "kernelspec": {
   "display_name": "Python 3",
   "language": "python",
   "name": "python3"
  }
 },
 "nbformat": 4,
 "nbformat_minor": 2
}
